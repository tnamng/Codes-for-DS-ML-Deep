{
 "cells": [
  {
   "cell_type": "markdown",
   "metadata": {},
   "source": [
    "# I. Partitionnement (Clustering)"
   ]
  },
  {
   "cell_type": "code",
   "execution_count": null,
   "metadata": {},
   "outputs": [],
   "source": [
    "from sklearn.cluster import KMeans, MiniBatchKmean\n",
    "\n",
    "model = KMeans(n_clusters=3) ||| model = MiniBatchKmean(n_clusters = 5)   \n",
    "#n_init=10 [sô lần inialiser], max_iter=300, random_state=None  |||  #batch_size=100 \n",
    "#Kmean phụ thuộc nhiều vào initial centers ban đầu \n",
    "\n",
    "model.fit(sample)\n",
    "labels = model.predict(samples)\n",
    "\n",
    "kmeans.labels_             show labels of each point.\n",
    "kmeans.cluster_centers_    cluster centroids.\n",
    "\n",
    "model.inertia_             measures clustering quality: To choose n_clusters from ebllow\n"
   ]
  },
  {
   "cell_type": "markdown",
   "metadata": {},
   "source": [
    "# II. Réduction de dimention"
   ]
  },
  {
   "cell_type": "markdown",
   "metadata": {},
   "source": [
    "# 1. PCA (l'analyse en composantes principales): \n",
    "    - Trouver un hyperplan le plus proche des donnés\n",
    "    - la projection des donnéé sur l'hyperplan contient au maximum a variance des données"
   ]
  },
  {
   "cell_type": "code",
   "execution_count": null,
   "metadata": {},
   "outputs": [],
   "source": [
    "from sklearn.decomposition import PCA, KernelPCA\n",
    "\n",
    "pca_find_n_compo = PCA().fit(sampes)\n",
    "\n",
    "plt.plot(np.cumsum(pca_find_n_compo.explained_variance_ratio_.cumsum()))\n",
    "\n",
    "features = range(pca_find_n_compo.n_components_)\n",
    "plt.bar(features, pca_find_n_compo.explained_variance_)\n",
    "plt.ylabel('variance')\n",
    "plt.xlabel('PCA feature')\n",
    "plt.show()"
   ]
  },
  {
   "cell_type": "code",
   "execution_count": null,
   "metadata": {},
   "outputs": [],
   "source": [
    "from sklearn.decomposition import PCA, KernelPCA\n",
    "\n",
    "pca = PCA(n_components = 2)  ||| pca = KernelPCA(n_components = 2, kernel = 'rbf'/'linear'/\"sigmoid\")\n",
    "pca.fit(samples)  || transformed = pca.transform(samples)\n",
    "print(transformed.shape)  = (150, 2)\n",
    "print (pca.components_) # eigenvectors\n",
    "print (pca.explained_variance_) # eigenvalues"
   ]
  },
  {
   "cell_type": "markdown",
   "metadata": {},
   "source": [
    "- hight variance feature is more important\n",
    "we are trying to write each data point as a\n",
    "weighted sum of some components\n",
    ". But whereas in PCA\n",
    "we wanted components that were orthogonal and that explained as much variance of\n",
    "the data as possible, in NMF, we want the components and the coefficients to be nonnegative; that is, we want both the components and the coefficients to be greater than\n",
    "or equal to zero. "
   ]
  },
  {
   "cell_type": "markdown",
   "metadata": {},
   "source": [
    "## 2. NMF"
   ]
  },
  {
   "cell_type": "code",
   "execution_count": null,
   "metadata": {},
   "outputs": [],
   "source": [
    "NMF models are interpretable (unlike PCA)\n",
    "However, all sample features must be non-negative (>= 0)\n",
    "Works with NumPy arrays and with csr_matrix\n",
    "\n",
    "from sklearn.decomposition import NMF\n",
    "nmf = NMF(n_components=10)\n",
    "nmf.fit(articles)\n",
    "print(nmf.components_.shape)\n",
    "(10, 800)"
   ]
  },
  {
   "cell_type": "code",
   "execution_count": null,
   "metadata": {},
   "outputs": [],
   "source": [
    "from sklearn.decomposition import TruncatedSVD\n",
    "model = TruncatedSVD(n_components=3)\n",
    "model.fit(documents) # documents is csr_matrix\n",
    "transformed = model.transform(documents)"
   ]
  }
 ],
 "metadata": {
  "kernelspec": {
   "display_name": "Python [conda env:root] *",
   "language": "python",
   "name": "conda-root-py"
  },
  "language_info": {
   "codemirror_mode": {
    "name": "ipython",
    "version": 3
   },
   "file_extension": ".py",
   "mimetype": "text/x-python",
   "name": "python",
   "nbconvert_exporter": "python",
   "pygments_lexer": "ipython3",
   "version": "3.7.6"
  }
 },
 "nbformat": 4,
 "nbformat_minor": 4
}
