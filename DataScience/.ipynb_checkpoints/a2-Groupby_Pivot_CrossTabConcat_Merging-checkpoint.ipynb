{
 "cells": [
  {
   "cell_type": "markdown",
   "metadata": {},
   "source": [
    "# Groupby (1D): [tiêu chí nên là category]"
   ]
  },
  {
   "cell_type": "code",
   "execution_count": null,
   "metadata": {},
   "outputs": [],
   "source": [
    "df.groupby(\"col1\"/[\"col_1a\", \"col_1b\"])[\"col2\"/[\"col_2a\", \"col_2b\"]].mean()\n",
    "dogs.groupby(\"color\")[\"weight_kg\"].agg([min, max, sum])\n",
    "\n",
    "df.groupby('col_1', as_index = False)['cols_2'].agg({'C_count': 'count', 'M_mean':'mean'})\n",
    "df.groupby('col_1', as_index = False).agg({'col_1': 'count', 'col_2':'mean'})"
   ]
  },
  {
   "cell_type": "markdown",
   "metadata": {},
   "source": [
    "# Pivot_table (2D): tiêu chí nên là category/int"
   ]
  },
  {
   "cell_type": "code",
   "execution_count": null,
   "metadata": {},
   "outputs": [],
   "source": [
    "df.pivot_table(values=\"weight_kg\",index=\"color\")  # mean by deafaut\n",
    "df.pivot_table(values=\"weight_kg\", index=\"color\", aggfunc=np.median/[np.mean, np.median])\n",
    "\n",
    "dogs.pivot_table(values=\"weight_kg\", index=\"color\", columns=\"breed\")  #fill_value=0, margins=True"
   ]
  },
  {
   "cell_type": "markdown",
   "metadata": {},
   "source": [
    "## Relation between two categorical columns"
   ]
  },
  {
   "cell_type": "code",
   "execution_count": null,
   "metadata": {},
   "outputs": [],
   "source": [
    "pd.crosstab(df['col1'], df['col2'])\n",
    "pd.crosstab(df.col1, df.col2, margins=True, margins_name=\"Total\") \n",
    "pd.crosstab(df.col1, df.col2, normalize=True/0/1, margins=True, margins_name=\"Total\") "
   ]
  },
  {
   "cell_type": "code",
   "execution_count": null,
   "metadata": {},
   "outputs": [],
   "source": [
    "df.pivot_table(index='make', columns='body_style', aggfunc={'body_style':len}, fill_value=0)"
   ]
  },
  {
   "cell_type": "markdown",
   "metadata": {},
   "source": [
    "# Concat"
   ]
  },
  {
   "cell_type": "code",
   "execution_count": null,
   "metadata": {},
   "outputs": [],
   "source": [
    "s1.append(s2) = ghép dọc series  \n",
    "pd.concat([df1, df2, df3]) = ghép dọc Frames"
   ]
  },
  {
   "cell_type": "code",
   "execution_count": null,
   "metadata": {},
   "outputs": [],
   "source": [
    "## Params:\n",
    "    axis = 0\n",
    "##\n",
    "\n",
    "axis = 0 (Bổ sung các dòng)\n",
    "    Hợp các dòng (lặp index) \n",
    "    Thêm new columns NaN|| same colums đặt dưới -->Trình bày columns như thế nào: join = \"outer\"/\"inner\" \n",
    "\n",
    "axis = 1  (Bổ sung các cột)\n",
    "    Hợp không lặp columns\n",
    "    thêm new index NaN || same index bổ sung thông tin -->join = \"outer\"/\"inner\"-->chỉ cho ra những index giống nhau "
   ]
  },
  {
   "cell_type": "code",
   "execution_count": null,
   "metadata": {},
   "outputs": [],
   "source": [
    "np.hstack([B, A])\n",
    "np.vstack([A, C])"
   ]
  },
  {
   "cell_type": "markdown",
   "metadata": {},
   "source": [
    "# Merge: Dựa vào cột, bổ sung cột"
   ]
  },
  {
   "cell_type": "code",
   "execution_count": null,
   "metadata": {},
   "outputs": [],
   "source": [
    "pd.merge(df1, df2) # xem trục cùng tên\n",
    "pd.merge(df1, df2, on='col_1'/[\"col_1a\", \"co_1b\"])\n",
    "\n",
    "Critère: COLUMNS nào ?\n",
    "    on='col_1'/[\"col_1a\", \"co_1b\"]\n",
    "    on -->  left_on='CITY NAME', right_on='City'\n",
    "Show: những INDEX nào \n",
    "    how --> 'inner'/'left'/'right'/'outer'"
   ]
  }
 ],
 "metadata": {
  "kernelspec": {
   "display_name": "Python 3",
   "language": "python",
   "name": "python3"
  },
  "toc": {
   "base_numbering": 1,
   "nav_menu": {},
   "number_sections": true,
   "sideBar": true,
   "skip_h1_title": false,
   "title_cell": "Table of Contents",
   "title_sidebar": "Contents",
   "toc_cell": false,
   "toc_position": {},
   "toc_section_display": true,
   "toc_window_display": true
  }
 },
 "nbformat": 4,
 "nbformat_minor": 4
}
