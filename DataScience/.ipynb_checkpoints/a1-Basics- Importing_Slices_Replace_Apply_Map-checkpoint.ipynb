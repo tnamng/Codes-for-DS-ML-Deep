{
 "cells": [
  {
   "cell_type": "markdown",
   "metadata": {},
   "source": [
    "# 1. Importing"
   ]
  },
  {
   "cell_type": "code",
   "execution_count": null,
   "metadata": {},
   "outputs": [],
   "source": [
    "df = pd.read_csv('population_01.csv', index_col=0)\n",
    "df = pd.read_csv(file1, index_col='Month', parse_dates=True)"
   ]
  },
  {
   "cell_type": "code",
   "execution_count": null,
   "metadata": {},
   "outputs": [],
   "source": [
    "import glob\n",
    "list_fnames = glob.glob('*.csv')  # file_*.csv|| file_?.csv (CẬP NHẬT DỮ LIỆU THE0 THÁNG VD)\n",
    "\n",
    "list_df = []\n",
    "for fname in list_fnames:\n",
    "    data = pd.read_csv(filename)\n",
    "    list_df.append(data)\n",
    "\n",
    "pd.concat(list_df)"
   ]
  },
  {
   "cell_type": "code",
   "execution_count": null,
   "metadata": {},
   "outputs": [],
   "source": [
    "import json\n",
    "\n",
    "with open('snakes.json', 'r') as json_file:\n",
    "    json_data = json.load(json_file)"
   ]
  },
  {
   "cell_type": "markdown",
   "metadata": {},
   "source": [
    "# 2. Selection a part of DataFrame"
   ]
  },
  {
   "cell_type": "code",
   "execution_count": null,
   "metadata": {},
   "outputs": [],
   "source": [
    "BOOLEAN SERIES INDEX (ROWS)\n",
    "\n",
    "df[df['Survived']==1]\n",
    "df[df[\"col1\"] > 100]\n",
    "\n",
    "is_black_or_brown = dogs[\"color\"].isin([\"Black\", \"Brown\"])\n",
    "dogs[is_black_or_brown]"
   ]
  },
  {
   "cell_type": "code",
   "execution_count": null,
   "metadata": {},
   "outputs": [],
   "source": [
    "dogs.loc[\"2014-08-25\":\"2016-09-16\"]  #(ROWS) time series"
   ]
  },
  {
   "cell_type": "code",
   "execution_count": null,
   "metadata": {},
   "outputs": [],
   "source": [
    "df.loc[:, \"name\":\"height_cm\"]\n",
    "df.loc[[(\"Labrador\", \"Brown\"), (\"Chihuahua\", \"Tan\")]]"
   ]
  },
  {
   "cell_type": "code",
   "execution_count": null,
   "metadata": {},
   "outputs": [],
   "source": [
    "df[df.search_conducted == True][\"inventory\"]\n",
    "df.loc[df.search_conducted == True,\"inventory\"]"
   ]
  },
  {
   "cell_type": "code",
   "execution_count": null,
   "metadata": {},
   "outputs": [],
   "source": [
    "#By type\n",
    "df.select_dtypes(include=['int'/'O'])\n",
    "df.select_dtypes(include=np.number) # Tat ca cac dang so"
   ]
  },
  {
   "cell_type": "code",
   "execution_count": null,
   "metadata": {},
   "outputs": [],
   "source": [
    "categorical_mask = (df.dtypes == object)\n",
    "categorical_columns = df.columns[categorical_mask]"
   ]
  },
  {
   "cell_type": "markdown",
   "metadata": {},
   "source": [
    "# 3. Replace"
   ]
  },
  {
   "cell_type": "code",
   "execution_count": null,
   "metadata": {},
   "outputs": [],
   "source": [
    "#3 REPLACE DANH CHO 1 THANH PHAN NHO\n",
    "replace_map = {'column.': {old_values: new_values}} # Dictionary of dictionary\n",
    "df_replace = df.replace(replace_map)   // \n",
    "df.replace(replace_map, inplace=True) \n",
    "\n",
    "df['col1'].replace(['S','C','Q'],[0,1,2]).astype(float)   #\n",
    "df['col1'] = np.where(df['col1'].str.contains('US'), 1, 0)"
   ]
  },
  {
   "cell_type": "markdown",
   "metadata": {},
   "source": [
    "## 4. Apply, Map(SERIS), applymap(DF)"
   ]
  },
  {
   "cell_type": "code",
   "execution_count": null,
   "metadata": {},
   "outputs": [],
   "source": [
    "#APPLY FOR SERIES\n",
    "df[\"sub_enc\"] = df[\"subscribed\"].apply(lambda val:1 if val == \"y\" else 0)\n",
    "df['new_col1'] = df['col1'].map(...dictionary/function...)  # dic ở đây giống như 1 hàm cho tương ứng Series"
   ]
  },
  {
   "cell_type": "code",
   "execution_count": null,
   "metadata": {},
   "outputs": [],
   "source": [
    "#APPLY FOR DATAFRAMES\n",
    "df_root = df.apply(np.sqrt)\n",
    "df[\"new_col\"] = df.apply(np.sum, axis=1)\n",
    "df[\"new_col\"] = df.apply(lambda row: row.sum(), axis=1)"
   ]
  }
 ],
 "metadata": {
  "kernelspec": {
   "display_name": "Python [conda env:root] *",
   "language": "python",
   "name": "conda-root-py"
  },
  "language_info": {
   "codemirror_mode": {
    "name": "ipython",
    "version": 3
   },
   "file_extension": ".py",
   "mimetype": "text/x-python",
   "name": "python",
   "nbconvert_exporter": "python",
   "pygments_lexer": "ipython3",
   "version": "3.7.6"
  }
 },
 "nbformat": 4,
 "nbformat_minor": 4
}
