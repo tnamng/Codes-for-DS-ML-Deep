{
 "cells": [
  {
   "cell_type": "markdown",
   "metadata": {},
   "source": [
    "# 1. Groupby (1D): tiêu chí là category"
   ]
  },
  {
   "cell_type": "code",
   "execution_count": null,
   "metadata": {},
   "outputs": [],
   "source": [
    "df.groupby(\"col1\"/[\"col_1a\", \"col_1b\"])[\"col2\"/[\"col_2a\", \"col_2b\"]].mean()\n",
    "dogs.groupby(\"color\")[\"weight_kg\"].agg([min, max, sum])\n",
    "\n",
    "df.groupby('col_1', as_index = False)['cols_2'].agg({'C_count': 'count', 'M_mean':'mean'})\n",
    "\n",
    "df.groupby('col_1', as_index = False).agg({'col_1': 'count', 'col_2':'mean'})"
   ]
  },
  {
   "cell_type": "markdown",
   "metadata": {},
   "source": [
    "# 2. Pivot_table (2D): tiêu chí là category"
   ]
  },
  {
   "cell_type": "code",
   "execution_count": null,
   "metadata": {},
   "outputs": [],
   "source": [
    "df.pivot_table(values=\"weight_kg\",index=\"color\")  # mean by deafaut\n",
    "df.pivot_table(values=\"weight_kg\", index=\"color\", aggfunc=np.median/[np.mean, np.median])\n",
    "\n",
    "dogs.pivot_table(values=\"weight_kg\", index=\"color\", columns=\"breed\")  #fill_value=0, margins=True"
   ]
  },
  {
   "cell_type": "code",
   "execution_count": null,
   "metadata": {},
   "outputs": [],
   "source": [
    "#pd.crosstab(df_train.Pclass, df_train.Survived)\n",
    "#pd.crosstab(df_train.Pclass, df_train.Survived, margins=True, margins_name=\"Total\") \n",
    "#pd.crosstab(df_train.Pclass, df_train.Survived, normalize=True, margins=True, margins_name=\"Total\") \n",
    "#normalize='columns'\n",
    "pd.crosstab(df_train.Pclass, df_train.Survived, normalize='index') "
   ]
  },
  {
   "cell_type": "code",
   "execution_count": 3,
   "metadata": {},
   "outputs": [
    {
     "ename": "NameError",
     "evalue": "name 'df' is not defined",
     "output_type": "error",
     "traceback": [
      "\u001b[0;31m---------------------------------------------------------------------------\u001b[0m",
      "\u001b[0;31mNameError\u001b[0m                                 Traceback (most recent call last)",
      "\u001b[0;32m<ipython-input-3-e157f46f8da0>\u001b[0m in \u001b[0;36m<module>\u001b[0;34m\u001b[0m\n\u001b[0;32m----> 1\u001b[0;31m \u001b[0mdf\u001b[0m\u001b[0;34m.\u001b[0m\u001b[0mpivot_table\u001b[0m\u001b[0;34m(\u001b[0m\u001b[0mindex\u001b[0m\u001b[0;34m=\u001b[0m\u001b[0;34m'make'\u001b[0m\u001b[0;34m,\u001b[0m \u001b[0mcolumns\u001b[0m\u001b[0;34m=\u001b[0m\u001b[0;34m'body_style'\u001b[0m\u001b[0;34m,\u001b[0m \u001b[0mvalues\u001b[0m \u001b[0;34m=\u001b[0m \u001b[0;34m\"body_style\"\u001b[0m\u001b[0;34m,\u001b[0m \u001b[0maggfunc\u001b[0m\u001b[0;34m=\u001b[0m\u001b[0;34m'len'\u001b[0m\u001b[0;34m,\u001b[0m \u001b[0mfill_value\u001b[0m\u001b[0;34m=\u001b[0m\u001b[0;36m0\u001b[0m\u001b[0;34m)\u001b[0m\u001b[0;34m\u001b[0m\u001b[0;34m\u001b[0m\u001b[0m\n\u001b[0m",
      "\u001b[0;31mNameError\u001b[0m: name 'df' is not defined"
     ]
    }
   ],
   "source": [
    "df.pivot_table(index='make', columns='body_style', aggfunc={'body_style':len}, fill_value=0)"
   ]
  },
  {
   "cell_type": "markdown",
   "metadata": {},
   "source": [
    "# 3. Concat: Hợp lặp, giao -->mặc định trục dọc axis = 0 =index, "
   ]
  },
  {
   "cell_type": "code",
   "execution_count": null,
   "metadata": {},
   "outputs": [],
   "source": [
    "s1.append(s2) = ghép dọc series  \n",
    "pd.concat([df1, df2, df3]) = ghép dọc Frames\n",
    "\"\"\"Params:\n",
    "    axis = 0\n",
    "\"\"\"\n",
    "axis = 0 (đặt các dòng xuống dưới)\n",
    "hợp _lặp index \n",
    "thêm new columns NaN|| same colums đặt dưới -->Trình bày columns như thế nào: join = \"outer\"/\"inner\" \n",
    "\n",
    "axis = 1  (đặt các cột sang bên phải)\n",
    "hợp không lặp columns\n",
    "thêm new index NaN || same index bổ sung thông tin -->join = \"outer\"/\"inner\"-->chỉ cho ra những index giống nhau \n",
    "\n",
    "JOIN = FOR THE OTHER AXIS"
   ]
  },
  {
   "cell_type": "markdown",
   "metadata": {},
   "source": [
    "**Remark**: Columns thì là update (same), add (new); index thì là lặp"
   ]
  },
  {
   "cell_type": "markdown",
   "metadata": {},
   "source": [
    "**Remark**: Dựa vào index\n",
    "    - axis = 0. --> Bổ sung dòng cho data\n",
    "    - axis = 1. --> Bổ sung thêm cột cho data"
   ]
  },
  {
   "cell_type": "code",
   "execution_count": null,
   "metadata": {},
   "outputs": [],
   "source": [
    "np.hstack([B, A])\n",
    "np.vstack([A, C])"
   ]
  },
  {
   "cell_type": "markdown",
   "metadata": {},
   "source": [
    "# 4. Merge: Giao, dựa vào 1 trục columns giống nhau, bổ sung thêm các columns "
   ]
  },
  {
   "cell_type": "code",
   "execution_count": null,
   "metadata": {},
   "outputs": [],
   "source": [
    "pd.merge(df1, df2) # xem trục cùng tên\n",
    "pd.merge(df1, df2, on='col_1'/[\"col_1a\", \"co_1b\"])\n",
    "\n",
    "Columns nào ?\n",
    "    on='col_1'/[\"col_1a\", \"co_1b\"]\n",
    "    on -->  left_on='CITY NAME', right_on='City'\n",
    "SHOW INDEX nào \n",
    "    how --> 'inner'/'left'/'right'/'outer'\n"
   ]
  },
  {
   "cell_type": "code",
   "execution_count": null,
   "metadata": {},
   "outputs": [],
   "source": [
    "**Remark**: Dựa vào columns_1 --> add columns"
   ]
  }
 ],
 "metadata": {
  "kernelspec": {
   "display_name": "Python 3",
   "language": "python",
   "name": "python3"
  },
  "language_info": {
   "codemirror_mode": {
    "name": "ipython",
    "version": 3
   },
   "file_extension": ".py",
   "mimetype": "text/x-python",
   "name": "python",
   "nbconvert_exporter": "python",
   "pygments_lexer": "ipython3",
   "version": "3.7.6"
  }
 },
 "nbformat": 4,
 "nbformat_minor": 4
}
