{
 "cells": [
  {
   "cell_type": "code",
   "execution_count": null,
   "metadata": {},
   "outputs": [],
   "source": [
    "df['new_date'] = pd.to_datetime(df['string_date'])\n",
    "df['Start date'] = pd.to_datetime(rides['string_date'], format = \"%Y-%m-%d %H:@%M:%S\", errors = 'coerce')\n",
    "# Return NA for rows where conversion failed\n",
    "\n",
    "birthdays['Birthday'] = pd.to_datetime(birthdays['Birthday'],infer_datetime_format=True,errors = 'coerce')\n",
    "# Attempt to infer format of each date\n",
    "users['Birthday'].dt.year/month/day\n",
    "\n",
    "today_date = dt.date.today()"
   ]
  },
  {
   "cell_type": "code",
   "execution_count": null,
   "metadata": {},
   "outputs": [],
   "source": [
    "ĐỔI NGÀY THÀNH STRING\n",
    "birthdays['Birthday'] = birthdays['Birthday'].dt.strftime(\"%d-%m-%Y\")"
   ]
  },
  {
   "cell_type": "code",
   "execution_count": null,
   "metadata": {},
   "outputs": [],
   "source": [
    "# DELTA TIME\n",
    "rides['Duration'] = rides['End date'] - rides['Start date']\n",
    "rides['Duration'].dt.total_seconds().head(5)\n",
    "\n",
    "rides['Duration'].sum() / timedelta(days=91)"
   ]
  },
  {
   "cell_type": "code",
   "execution_count": null,
   "metadata": {},
   "outputs": [],
   "source": [
    "# Average duration by month: GROYPBY TIME SERIES\n",
    "rides.resample('M', on = 'Start date')['Duration seconds'].mean()\n",
    "Hoặc dùng groupby index.month cũng được cũng được"
   ]
  },
  {
   "cell_type": "code",
   "execution_count": null,
   "metadata": {},
   "outputs": [],
   "source": [
    "rides['Start date'].head(3).dt.tz_localize('America/New_York')"
   ]
  },
  {
   "cell_type": "code",
   "execution_count": null,
   "metadata": {},
   "outputs": [],
   "source": [
    "Turn strings into dates with .strptime() and dates into strings with .strftime()"
   ]
  },
  {
   "cell_type": "code",
   "execution_count": null,
   "metadata": {},
   "outputs": [],
   "source": [
    "To turn date objects into strings, use the .isoformat() or .strftime() methods"
   ]
  }
 ],
 "metadata": {
  "kernelspec": {
   "display_name": "Python [conda env:root] *",
   "language": "python",
   "name": "conda-root-py"
  },
  "language_info": {
   "codemirror_mode": {
    "name": "ipython",
    "version": 3
   },
   "file_extension": ".py",
   "mimetype": "text/x-python",
   "name": "python",
   "nbconvert_exporter": "python",
   "pygments_lexer": "ipython3",
   "version": "3.7.6"
  }
 },
 "nbformat": 4,
 "nbformat_minor": 4
}
